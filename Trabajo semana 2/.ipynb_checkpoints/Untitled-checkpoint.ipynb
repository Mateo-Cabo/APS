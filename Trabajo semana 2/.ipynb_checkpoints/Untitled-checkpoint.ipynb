{
 "cells": [
  {
   "cell_type": "markdown",
   "id": "102372e2-de81-4516-a207-cedc9f35e971",
   "metadata": {},
   "source": [
    "$$\\frac{Z_{R}}{Z_{C}+Z_{L}+Z_{R}}$$"
   ]
  },
  {
   "cell_type": "markdown",
   "id": "d900c955-ee0b-42fe-8032-543575b0b966",
   "metadata": {},
   "source": [
    "$$Z_{R} = R, \\quad Z_{C} = \\frac{1}{sC}, \\quad Z_{L} = sL$$"
   ]
  },
  {
   "cell_type": "markdown",
   "id": "46dc11d4-d693-41d5-a65c-ce75ad3be34f",
   "metadata": {},
   "source": [
    "$$\\frac{R}{\\frac{1}{sC}+sL+R}$$"
   ]
  },
  {
   "cell_type": "markdown",
   "id": "ab267c67-632e-4d3a-8991-89d46da91c63",
   "metadata": {},
   "source": [
    "$$\\frac{R}{\\frac{1}{sC}+sL+R}*\\frac{sC}{sC}$$"
   ]
  },
  {
   "cell_type": "markdown",
   "id": "d6fbbad6-3aed-429d-a4e5-0162e9398439",
   "metadata": {},
   "source": [
    "$$\\frac{RsC}{1+s^{2}LC+RsC}$$"
   ]
  },
  {
   "cell_type": "markdown",
   "id": "c7d6ecaa-fec9-4756-be6a-76838104b70d",
   "metadata": {},
   "source": [
    "$$\\frac{s\\frac{R}{L}}{\\frac{1}{LC}+s^{2}+s\\frac{R}{L}}*\\frac{LC}{LC}$$"
   ]
  },
  {
   "cell_type": "markdown",
   "id": "40a7d853-20a3-4594-8d1c-8aca190cefe6",
   "metadata": {},
   "source": [
    "$$\\frac{s\\frac{\\omega_{0}}{Q}}{s^{2}+s\\frac{\\omega_{0}}{Q}+\\omega_{0}^{2}}$$"
   ]
  },
  {
   "cell_type": "markdown",
   "id": "51906713-2690-4f0f-a4c6-7a9ee384ecac",
   "metadata": {},
   "source": [
    "$$\\frac{j\\omega\\frac{\\omega_{0}}{Q}}{(j\\omega)^{2}+j\\omega\\frac{\\omega_{0}}{Q}+\\omega_{0}^{2}}$$"
   ]
  },
  {
   "cell_type": "markdown",
   "id": "d1ea0c9c-0a5d-4203-96ef-2885c8cbf3cc",
   "metadata": {},
   "source": [
    "$$\\frac{\\omega\\frac{\\omega_{0}}{Q}}{\\sqrt{(\\omega_{0}^{2}-\\omega^{2})^{2}+\\omega^{2}(\\frac{\\omega_{0}}{Q})^2}}$$"
   ]
  },
  {
   "cell_type": "markdown",
   "id": "0ecb2d6f-5123-45de-9198-23c8c08f4579",
   "metadata": {},
   "source": [
    "$$\\displaystyle \\lim_{ \\omega \\to 0} \\left | T(j\\omega) \\right | \\quad \\Rightarrow \\quad $$"
   ]
  },
  {
   "cell_type": "markdown",
   "id": "bff83df8-e2a0-4613-9758-0555d252e9df",
   "metadata": {},
   "source": [
    "$$\\displaystyle \\lim_{ \\omega \\to \\infty} \\left | T(j\\omega) \\right | \\quad \\Rightarrow \\quad $$"
   ]
  },
  {
   "cell_type": "markdown",
   "id": "35f58670-6dc1-4d58-a2b8-d7d9f62cca32",
   "metadata": {},
   "source": []
  },
  {
   "cell_type": "markdown",
   "id": "0f0a10c0-ed5c-4bc6-b481-06673fa1ff8b",
   "metadata": {},
   "source": [
    "$$\\frac{Y_{R}+Y_{L}}{Y_{R}+Y_{L}+Z_{C}}$$"
   ]
  },
  {
   "cell_type": "markdown",
   "id": "055a0830-4d0c-4242-8bc8-2b88a56c3020",
   "metadata": {},
   "source": [
    "$$\\frac{(\\frac{1}{Z_{R}}+\\frac{1}{Z_{L}})^{-1}}{(\\frac{1}{Z_{R}}+\\frac{1}{Z_{L}})^{-1}+Z_{C}}$$"
   ]
  },
  {
   "cell_type": "markdown",
   "id": "5f3d0d16-a1f1-4b2b-ab97-6415bc4e91ca",
   "metadata": {},
   "source": [
    "$$\\frac{(\\frac{1}{R}+\\frac{1}{sL})^{-1}}{(\\frac{1}{R}+\\frac{1}{sL})^{-1}+\\frac{1}{sC}}$$"
   ]
  },
  {
   "cell_type": "markdown",
   "id": "489a7c37-c2c6-4524-b2a9-70fc7196a2d7",
   "metadata": {},
   "source": [
    "$$\\frac{\\frac{sLR}{R + sL}}{\\frac{sLR}{R + sL}+\\frac{1}{sC}}$$"
   ]
  },
  {
   "cell_type": "markdown",
   "id": "e7dbd3a4-9a94-4dde-a324-f8c4b31fe83f",
   "metadata": {},
   "source": [
    "$$\\frac{R+sL}{R+sL}*\\frac{sLR}{sLR+\\frac{R+sL}{sC}}$$"
   ]
  },
  {
   "cell_type": "markdown",
   "id": "166710c3-40c9-40e6-8ec7-0387cb39a13b",
   "metadata": {},
   "source": [
    "$$\\frac{sC}{sC}*\\frac{sLR}{sLR+\\frac{R+sL}{sC}}$$"
   ]
  },
  {
   "cell_type": "markdown",
   "id": "d59fa6f9-60d7-4e4d-abe9-4afa70692c35",
   "metadata": {},
   "source": [
    "$$\\frac{s^{2}LRC}{s^{2}LRC+R+sL}$$"
   ]
  },
  {
   "cell_type": "markdown",
   "id": "41d9987d-0011-40e7-ad70-216c69384e0a",
   "metadata": {},
   "source": [
    "$$\\frac{LC}{LC}*\\frac{s^{2}R}{s^{2}R+\\frac{R}{LC}+\\frac{s}{C}}$$"
   ]
  },
  {
   "cell_type": "markdown",
   "id": "50b4cfe5-8332-4709-ab58-ad1e170d481f",
   "metadata": {},
   "source": [
    "$$\\frac{R}{R}*\\frac{s^{2}}{s^{2}+\\frac{1}{LC}+s\\frac{1}{RC}}$$"
   ]
  },
  {
   "cell_type": "markdown",
   "id": "0e7b1751-e883-4415-a317-e6779990f684",
   "metadata": {},
   "source": [
    "$$\\frac{s^{2}}{s^{2}+\\omega_{0}^{2}+s\\frac{1}{RC}}$$"
   ]
  },
  {
   "cell_type": "markdown",
   "id": "a8984baf-b9da-4d62-aada-dc3b1033926f",
   "metadata": {},
   "source": [
    "$$\\frac{(j\\omega)^{2}}{(j\\omega)^{2}+\\omega_{0}^{2}+j\\omega\\frac{1}{RC}}$$"
   ]
  },
  {
   "cell_type": "markdown",
   "id": "184b21a1-babb-4d3d-acfa-985040b8c471",
   "metadata": {},
   "source": [
    "$$\\frac{\\omega^{2}}{\\sqrt{(\\omega_{0}^{2}-\\omega^{2})^{2}+\\omega^{2}(\\frac{1}{RC})^2}}$$"
   ]
  },
  {
   "cell_type": "markdown",
   "id": "12a53e11-183c-4121-a95f-378c95bfefc3",
   "metadata": {},
   "source": [
    "$$\\displaystyle \\lim_{ \\omega \\to \\infty} \\left | T(j\\omega) \\right | \\quad \\Rightarrow \\quad $$"
   ]
  },
  {
   "cell_type": "code",
   "execution_count": null,
   "id": "b3a510b7-ced9-4e05-87d5-1a885d683d31",
   "metadata": {},
   "outputs": [],
   "source": []
  }
 ],
 "metadata": {
  "kernelspec": {
   "display_name": "Python 3 (ipykernel)",
   "language": "python",
   "name": "python3"
  },
  "language_info": {
   "codemirror_mode": {
    "name": "ipython",
    "version": 3
   },
   "file_extension": ".py",
   "mimetype": "text/x-python",
   "name": "python",
   "nbconvert_exporter": "python",
   "pygments_lexer": "ipython3",
   "version": "3.13.2"
  }
 },
 "nbformat": 4,
 "nbformat_minor": 5
}
